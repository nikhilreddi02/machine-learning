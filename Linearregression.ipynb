{
 "cells": [
  {
   "cell_type": "code",
   "execution_count": 1,
   "id": "bef4d4af",
   "metadata": {},
   "outputs": [
    {
     "name": "stdout",
     "output_type": "stream",
     "text": [
      "%pylab is deprecated, use %matplotlib inline and import the required libraries.\n",
      "Populating the interactive namespace from numpy and matplotlib\n"
     ]
    }
   ],
   "source": [
    "%pylab inline\n",
    "import pandas as pd\n",
    "import numpy as np\n",
    "import matplotlib.pyplot as plt"
   ]
  },
  {
   "cell_type": "code",
   "execution_count": 33,
   "id": "fb99f79f",
   "metadata": {},
   "outputs": [],
   "source": [
    "df = pd.read_csv(\"http://www.stat.ufl.edu/~winner/data/brainhead.dat\", sep=\" \", skipinitialspace=True, header=None)"
   ]
  },
  {
   "cell_type": "code",
   "execution_count": 34,
   "id": "27d8d891",
   "metadata": {},
   "outputs": [
    {
     "data": {
      "text/plain": [
       "<bound method NDFrame.head of      0  1     2     3\n",
       "0    1  1  4512  1530\n",
       "1    1  1  3738  1297\n",
       "2    1  1  4261  1335\n",
       "3    1  1  3777  1282\n",
       "4    1  1  4177  1590\n",
       "..  .. ..   ...   ...\n",
       "232  2  2  3214  1110\n",
       "233  2  2  3394  1215\n",
       "234  2  2  3233  1104\n",
       "235  2  2  3352  1170\n",
       "236  2  2  3391  1120\n",
       "\n",
       "[237 rows x 4 columns]>"
      ]
     },
     "execution_count": 34,
     "metadata": {},
     "output_type": "execute_result"
    }
   ],
   "source": [
    "df.head"
   ]
  },
  {
   "cell_type": "code",
   "execution_count": 4,
   "id": "dbf6b8e2",
   "metadata": {},
   "outputs": [],
   "source": [
    "df.rename(columns={0:\"gender\",1:\"age group\",2:\"head size\",3:\"brain weight\"},inplace= True)"
   ]
  },
  {
   "cell_type": "code",
   "execution_count": 5,
   "id": "7789c5f2",
   "metadata": {},
   "outputs": [
    {
     "name": "stdout",
     "output_type": "stream",
     "text": [
      "     gender  age group  head size  brain weight\n",
      "0         1          1       4512          1530\n",
      "1         1          1       3738          1297\n",
      "2         1          1       4261          1335\n",
      "3         1          1       3777          1282\n",
      "4         1          1       4177          1590\n",
      "..      ...        ...        ...           ...\n",
      "232       2          2       3214          1110\n",
      "233       2          2       3394          1215\n",
      "234       2          2       3233          1104\n",
      "235       2          2       3352          1170\n",
      "236       2          2       3391          1120\n",
      "\n",
      "[237 rows x 4 columns]\n"
     ]
    }
   ],
   "source": [
    "print(df)"
   ]
  },
  {
   "cell_type": "code",
   "execution_count": 6,
   "id": "c340d1a3",
   "metadata": {},
   "outputs": [
    {
     "data": {
      "text/html": [
       "<div>\n",
       "<style scoped>\n",
       "    .dataframe tbody tr th:only-of-type {\n",
       "        vertical-align: middle;\n",
       "    }\n",
       "\n",
       "    .dataframe tbody tr th {\n",
       "        vertical-align: top;\n",
       "    }\n",
       "\n",
       "    .dataframe thead th {\n",
       "        text-align: right;\n",
       "    }\n",
       "</style>\n",
       "<table border=\"1\" class=\"dataframe\">\n",
       "  <thead>\n",
       "    <tr style=\"text-align: right;\">\n",
       "      <th></th>\n",
       "      <th>gender</th>\n",
       "      <th>age group</th>\n",
       "      <th>head size</th>\n",
       "      <th>brain weight</th>\n",
       "    </tr>\n",
       "  </thead>\n",
       "  <tbody>\n",
       "    <tr>\n",
       "      <th>count</th>\n",
       "      <td>237.000000</td>\n",
       "      <td>237.000000</td>\n",
       "      <td>237.000000</td>\n",
       "      <td>237.000000</td>\n",
       "    </tr>\n",
       "    <tr>\n",
       "      <th>mean</th>\n",
       "      <td>1.434599</td>\n",
       "      <td>1.535865</td>\n",
       "      <td>3633.991561</td>\n",
       "      <td>1282.873418</td>\n",
       "    </tr>\n",
       "    <tr>\n",
       "      <th>std</th>\n",
       "      <td>0.496753</td>\n",
       "      <td>0.499768</td>\n",
       "      <td>365.261422</td>\n",
       "      <td>120.340446</td>\n",
       "    </tr>\n",
       "    <tr>\n",
       "      <th>min</th>\n",
       "      <td>1.000000</td>\n",
       "      <td>1.000000</td>\n",
       "      <td>2720.000000</td>\n",
       "      <td>955.000000</td>\n",
       "    </tr>\n",
       "    <tr>\n",
       "      <th>25%</th>\n",
       "      <td>1.000000</td>\n",
       "      <td>1.000000</td>\n",
       "      <td>3389.000000</td>\n",
       "      <td>1207.000000</td>\n",
       "    </tr>\n",
       "    <tr>\n",
       "      <th>50%</th>\n",
       "      <td>1.000000</td>\n",
       "      <td>2.000000</td>\n",
       "      <td>3614.000000</td>\n",
       "      <td>1280.000000</td>\n",
       "    </tr>\n",
       "    <tr>\n",
       "      <th>75%</th>\n",
       "      <td>2.000000</td>\n",
       "      <td>2.000000</td>\n",
       "      <td>3876.000000</td>\n",
       "      <td>1350.000000</td>\n",
       "    </tr>\n",
       "    <tr>\n",
       "      <th>max</th>\n",
       "      <td>2.000000</td>\n",
       "      <td>2.000000</td>\n",
       "      <td>4747.000000</td>\n",
       "      <td>1635.000000</td>\n",
       "    </tr>\n",
       "  </tbody>\n",
       "</table>\n",
       "</div>"
      ],
      "text/plain": [
       "           gender   age group    head size  brain weight\n",
       "count  237.000000  237.000000   237.000000    237.000000\n",
       "mean     1.434599    1.535865  3633.991561   1282.873418\n",
       "std      0.496753    0.499768   365.261422    120.340446\n",
       "min      1.000000    1.000000  2720.000000    955.000000\n",
       "25%      1.000000    1.000000  3389.000000   1207.000000\n",
       "50%      1.000000    2.000000  3614.000000   1280.000000\n",
       "75%      2.000000    2.000000  3876.000000   1350.000000\n",
       "max      2.000000    2.000000  4747.000000   1635.000000"
      ]
     },
     "execution_count": 6,
     "metadata": {},
     "output_type": "execute_result"
    }
   ],
   "source": [
    "df.describe()"
   ]
  },
  {
   "cell_type": "code",
   "execution_count": 7,
   "id": "30a65ff9",
   "metadata": {},
   "outputs": [],
   "source": [
    "X=df[\"head size\"].values\n",
    "Y=df[\"brain weight\"].values"
   ]
  },
  {
   "cell_type": "code",
   "execution_count": 8,
   "id": "c53dc283",
   "metadata": {},
   "outputs": [
    {
     "name": "stdout",
     "output_type": "stream",
     "text": [
      "0.26342933948939945 325.57342104944223\n"
     ]
    }
   ],
   "source": [
    "#mean of X and Y\n",
    "x_mean=np.mean(X)\n",
    "y_mean=np.mean(Y)\n",
    "#length of the tables\n",
    "n=len(X)\n",
    "\n",
    "#calculte b0 and b1 values y=b1x+b0\n",
    "numer=0\n",
    "deno=0\n",
    "for i in range(n):\n",
    "    numer= numer + ((X[i]-x_mean)*(Y[i]-y_mean))\n",
    "    deno= deno + ((X[i]-x_mean)**2)\n",
    "b1=numer/deno\n",
    "b0=y_mean - (b1 * x_mean)\n",
    "print(b1,b0)"
   ]
  },
  {
   "cell_type": "code",
   "execution_count": 18,
   "id": "c52c61bd",
   "metadata": {},
   "outputs": [],
   "source": [
    "max_x=np.max(X) + 100\n",
    "min_x=np.min(X) - 100"
   ]
  },
  {
   "cell_type": "code",
   "execution_count": 19,
   "id": "50599bd2",
   "metadata": {},
   "outputs": [
    {
     "data": {
      "text/plain": [
       "count     237.000000\n",
       "mean     3633.991561\n",
       "std       365.261422\n",
       "min      2720.000000\n",
       "25%      3389.000000\n",
       "50%      3614.000000\n",
       "75%      3876.000000\n",
       "max      4747.000000\n",
       "Name: head size, dtype: float64"
      ]
     },
     "execution_count": 19,
     "metadata": {},
     "output_type": "execute_result"
    }
   ],
   "source": [
    "df['head size'].describe()"
   ]
  },
  {
   "cell_type": "code",
   "execution_count": 20,
   "id": "b514228b",
   "metadata": {},
   "outputs": [],
   "source": [
    "# calculating x and y values\n",
    "x=np.linspace(min_x,max_x,1000)\n",
    "y= b1*x + b0"
   ]
  },
  {
   "cell_type": "code",
   "execution_count": 22,
   "id": "263c9a5b",
   "metadata": {},
   "outputs": [
    {
     "data": {
      "image/png": "[encoded data removed]",
      "text/plain": [
       "<Figure size 640x480 with 1 Axes>"
      ]
     },
     "metadata": {},
     "output_type": "display_data"
    }
   ],
   "source": [
    "plt.plot(x,y,color=\"#58b970\",label=\"Regression Line\")\n",
    "plt.scatter(X,Y,c=\"#ef5423\",label=\"Scatter points\")\n",
    "plt.xlabel(\"Head Size\")\n",
    "plt.ylabel(\"Brain Weight\")\n",
    "plt.legend()\n",
    "plt.show()"
   ]
  },
  {
   "cell_type": "code",
   "execution_count": 24,
   "id": "383a5890",
   "metadata": {},
   "outputs": [
    {
     "name": "stdout",
     "output_type": "stream",
     "text": [
      "0.6393117199570003\n"
     ]
    }
   ],
   "source": [
    "# caluclation the R2 value\n",
    "ss_n=0\n",
    "ss_d=0\n",
    "for i in range(n):\n",
    "    y_pred= b0 + b1 * X[i]\n",
    "    ss_d= ss_d + ((Y[i] - y_mean) ** 2)\n",
    "    ss_n= ss_n + ((Y[i] - y_pred) ** 2)\n",
    "r2= 1 - (ss_n/ss_d)\n",
    "print(r2)"
   ]
  },
  {
   "cell_type": "code",
   "execution_count": 27,
   "id": "c6e4e78d",
   "metadata": {},
   "outputs": [],
   "source": [
    "#calculating R2 from using Sklearn module\n",
    "from sklearn.linear_model import LinearRegression\n",
    "from sklearn.metrics import mean_squared_error\n",
    "X=X.reshape((n,1))\n",
    "reg=LinearRegression()\n",
    "reg=reg.fit(X,Y)\n",
    "Y_pred= reg.predict(X)\n",
    "r2_score=reg.score(X,Y)"
   ]
  },
  {
   "cell_type": "code",
   "execution_count": 28,
   "id": "ab4b196f",
   "metadata": {},
   "outputs": [
    {
     "name": "stdout",
     "output_type": "stream",
     "text": [
      "0.639311719957\n"
     ]
    }
   ],
   "source": [
    "print(r2_score)"
   ]
  },
  {
   "cell_type": "code",
   "execution_count": 31,
   "id": "02e1fd2b",
   "metadata": {},
   "outputs": [
    {
     "data": {
      "image/png": "[encoded data removed]",
      "text/plain": [
       "<Figure size 640x480 with 1 Axes>"
      ]
     },
     "metadata": {},
     "output_type": "display_data"
    }
   ],
   "source": [
    "#it will show brain weight in histogram\n",
    "plt.hist(df[\"brain weight\"],color=\"darkgreen\")\n",
    "plt.xlabel(\"Brain Weight\")\n",
    "plt.show()"
   ]
  },
  {
   "cell_type": "code",
   "execution_count": null,
   "id": "fac27afa",
   "metadata": {},
   "outputs": [],
   "source": []
  }
 ],
 "metadata": {
  "kernelspec": {
   "display_name": "Python 3 (ipykernel)",
   "language": "python",
   "name": "python3"
  },
  "language_info": {
   "codemirror_mode": {
    "name": "ipython",
    "version": 3
   },
   "file_extension": ".py",
   "mimetype": "text/x-python",
   "name": "python",
   "nbconvert_exporter": "python",
   "pygments_lexer": "ipython3",
   "version": "3.11.5"
  }
 },
 "nbformat": 4,
 "nbformat_minor": 5
}
